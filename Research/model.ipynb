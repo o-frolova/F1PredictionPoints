{
 "cells": [
  {
   "cell_type": "markdown",
   "metadata": {},
   "source": [
    "# Model training"
   ]
  },
  {
   "cell_type": "markdown",
   "metadata": {},
   "source": [
    "## Import libraries"
   ]
  },
  {
   "cell_type": "code",
   "execution_count": 1,
   "metadata": {},
   "outputs": [],
   "source": [
    "import numpy as np\n",
    "import pandas as pd\n",
    "\n",
    "from catboost import CatBoostClassifier, Pool\n",
    "from sklearn.model_selection import train_test_split, cross_val_score\n",
    "from sklearn.metrics import accuracy_score, f1_score\n",
    "from sklearn.model_selection import GridSearchCV\n",
    "\n",
    "from sklearn.ensemble import RandomForestClassifier, AdaBoostClassifier\n",
    "from sklearn.linear_model import LogisticRegression\n",
    "\n",
    "from keras.models import Sequential\n",
    "from keras.layers import LSTM, Dense\n"
   ]
  },
  {
   "cell_type": "markdown",
   "metadata": {},
   "source": [
    "## Reading data"
   ]
  },
  {
   "cell_type": "code",
   "execution_count": 2,
   "metadata": {},
   "outputs": [],
   "source": [
    "data = pd.read_csv('../f1dataset.csv')"
   ]
  },
  {
   "cell_type": "code",
   "execution_count": 3,
   "metadata": {},
   "outputs": [],
   "source": [
    "target_data = data['racePosition']\n",
    "Y_scores = [1 if x <= 10 else 0 for x in target_data]\n",
    "Y_scores = pd.DataFrame(Y_scores)\n",
    "features_data = data.drop(['racePosition', 'raceIdOrdered', 'RacingExperience', 'maxPace', 'meanPace', 'nationality', 'year', 'yearStarted', 'driverExpYears', 'raceId', 'startingPosition'], axis=1)"
   ]
  },
  {
   "cell_type": "code",
   "execution_count": 4,
   "metadata": {},
   "outputs": [
    {
     "data": {
      "text/html": [
       "<div>\n",
       "<style scoped>\n",
       "    .dataframe tbody tr th:only-of-type {\n",
       "        vertical-align: middle;\n",
       "    }\n",
       "\n",
       "    .dataframe tbody tr th {\n",
       "        vertical-align: top;\n",
       "    }\n",
       "\n",
       "    .dataframe thead th {\n",
       "        text-align: right;\n",
       "    }\n",
       "</style>\n",
       "<table border=\"1\" class=\"dataframe\">\n",
       "  <thead>\n",
       "    <tr style=\"text-align: right;\">\n",
       "      <th></th>\n",
       "      <th>driverId</th>\n",
       "      <th>qualiResultPosition</th>\n",
       "      <th>q1Msec</th>\n",
       "      <th>q2Msec</th>\n",
       "      <th>q3Msec</th>\n",
       "      <th>circuitId</th>\n",
       "      <th>constructorId</th>\n",
       "      <th>AirTemp</th>\n",
       "      <th>Humidity</th>\n",
       "      <th>Pressure</th>\n",
       "      <th>Rainfall</th>\n",
       "      <th>TrackTemp</th>\n",
       "      <th>WindDirection</th>\n",
       "      <th>WindSpeed</th>\n",
       "    </tr>\n",
       "  </thead>\n",
       "  <tbody>\n",
       "    <tr>\n",
       "      <th>0</th>\n",
       "      <td>21</td>\n",
       "      <td>16.0</td>\n",
       "      <td>95898</td>\n",
       "      <td>0</td>\n",
       "      <td>0</td>\n",
       "      <td>1</td>\n",
       "      <td>18</td>\n",
       "      <td>0.000000</td>\n",
       "      <td>0.000000</td>\n",
       "      <td>0.000000</td>\n",
       "      <td>0.0</td>\n",
       "      <td>0.000000</td>\n",
       "      <td>0.000000</td>\n",
       "      <td>0.000000</td>\n",
       "    </tr>\n",
       "    <tr>\n",
       "      <th>1</th>\n",
       "      <td>65</td>\n",
       "      <td>14.0</td>\n",
       "      <td>95453</td>\n",
       "      <td>0</td>\n",
       "      <td>0</td>\n",
       "      <td>1</td>\n",
       "      <td>15</td>\n",
       "      <td>0.000000</td>\n",
       "      <td>0.000000</td>\n",
       "      <td>0.000000</td>\n",
       "      <td>0.0</td>\n",
       "      <td>0.000000</td>\n",
       "      <td>0.000000</td>\n",
       "      <td>0.000000</td>\n",
       "    </tr>\n",
       "    <tr>\n",
       "      <th>2</th>\n",
       "      <td>84</td>\n",
       "      <td>19.0</td>\n",
       "      <td>96286</td>\n",
       "      <td>0</td>\n",
       "      <td>0</td>\n",
       "      <td>1</td>\n",
       "      <td>17</td>\n",
       "      <td>0.000000</td>\n",
       "      <td>0.000000</td>\n",
       "      <td>0.000000</td>\n",
       "      <td>0.0</td>\n",
       "      <td>0.000000</td>\n",
       "      <td>0.000000</td>\n",
       "      <td>0.000000</td>\n",
       "    </tr>\n",
       "    <tr>\n",
       "      <th>3</th>\n",
       "      <td>55</td>\n",
       "      <td>6.0</td>\n",
       "      <td>94257</td>\n",
       "      <td>0</td>\n",
       "      <td>0</td>\n",
       "      <td>1</td>\n",
       "      <td>22</td>\n",
       "      <td>0.000000</td>\n",
       "      <td>0.000000</td>\n",
       "      <td>0.000000</td>\n",
       "      <td>0.0</td>\n",
       "      <td>0.000000</td>\n",
       "      <td>0.000000</td>\n",
       "      <td>0.000000</td>\n",
       "    </tr>\n",
       "    <tr>\n",
       "      <th>4</th>\n",
       "      <td>50</td>\n",
       "      <td>12.0</td>\n",
       "      <td>95338</td>\n",
       "      <td>0</td>\n",
       "      <td>0</td>\n",
       "      <td>1</td>\n",
       "      <td>29</td>\n",
       "      <td>0.000000</td>\n",
       "      <td>0.000000</td>\n",
       "      <td>0.000000</td>\n",
       "      <td>0.0</td>\n",
       "      <td>0.000000</td>\n",
       "      <td>0.000000</td>\n",
       "      <td>0.000000</td>\n",
       "    </tr>\n",
       "    <tr>\n",
       "      <th>...</th>\n",
       "      <td>...</td>\n",
       "      <td>...</td>\n",
       "      <td>...</td>\n",
       "      <td>...</td>\n",
       "      <td>...</td>\n",
       "      <td>...</td>\n",
       "      <td>...</td>\n",
       "      <td>...</td>\n",
       "      <td>...</td>\n",
       "      <td>...</td>\n",
       "      <td>...</td>\n",
       "      <td>...</td>\n",
       "      <td>...</td>\n",
       "      <td>...</td>\n",
       "    </tr>\n",
       "    <tr>\n",
       "      <th>7585</th>\n",
       "      <td>20</td>\n",
       "      <td>9.0</td>\n",
       "      <td>85523</td>\n",
       "      <td>84974</td>\n",
       "      <td>84961</td>\n",
       "      <td>24</td>\n",
       "      <td>117</td>\n",
       "      <td>28.763014</td>\n",
       "      <td>69.712329</td>\n",
       "      <td>1014.713699</td>\n",
       "      <td>0.0</td>\n",
       "      <td>33.942466</td>\n",
       "      <td>228.068493</td>\n",
       "      <td>1.635616</td>\n",
       "    </tr>\n",
       "    <tr>\n",
       "      <th>7586</th>\n",
       "      <td>846</td>\n",
       "      <td>7.0</td>\n",
       "      <td>85387</td>\n",
       "      <td>84903</td>\n",
       "      <td>84769</td>\n",
       "      <td>24</td>\n",
       "      <td>1</td>\n",
       "      <td>28.763014</td>\n",
       "      <td>69.712329</td>\n",
       "      <td>1014.713699</td>\n",
       "      <td>0.0</td>\n",
       "      <td>33.942466</td>\n",
       "      <td>228.068493</td>\n",
       "      <td>1.635616</td>\n",
       "    </tr>\n",
       "    <tr>\n",
       "      <th>7587</th>\n",
       "      <td>839</td>\n",
       "      <td>8.0</td>\n",
       "      <td>85735</td>\n",
       "      <td>85007</td>\n",
       "      <td>84830</td>\n",
       "      <td>24</td>\n",
       "      <td>214</td>\n",
       "      <td>28.763014</td>\n",
       "      <td>69.712329</td>\n",
       "      <td>1014.713699</td>\n",
       "      <td>0.0</td>\n",
       "      <td>33.942466</td>\n",
       "      <td>228.068493</td>\n",
       "      <td>1.635616</td>\n",
       "    </tr>\n",
       "    <tr>\n",
       "      <th>7588</th>\n",
       "      <td>840</td>\n",
       "      <td>14.0</td>\n",
       "      <td>85741</td>\n",
       "      <td>85359</td>\n",
       "      <td>0</td>\n",
       "      <td>24</td>\n",
       "      <td>117</td>\n",
       "      <td>28.763014</td>\n",
       "      <td>69.712329</td>\n",
       "      <td>1014.713699</td>\n",
       "      <td>0.0</td>\n",
       "      <td>33.942466</td>\n",
       "      <td>228.068493</td>\n",
       "      <td>1.635616</td>\n",
       "    </tr>\n",
       "    <tr>\n",
       "      <th>7589</th>\n",
       "      <td>847</td>\n",
       "      <td>6.0</td>\n",
       "      <td>85545</td>\n",
       "      <td>84940</td>\n",
       "      <td>84511</td>\n",
       "      <td>24</td>\n",
       "      <td>131</td>\n",
       "      <td>28.763014</td>\n",
       "      <td>69.712329</td>\n",
       "      <td>1014.713699</td>\n",
       "      <td>0.0</td>\n",
       "      <td>33.942466</td>\n",
       "      <td>228.068493</td>\n",
       "      <td>1.635616</td>\n",
       "    </tr>\n",
       "  </tbody>\n",
       "</table>\n",
       "<p>7590 rows × 14 columns</p>\n",
       "</div>"
      ],
      "text/plain": [
       "      driverId  qualiResultPosition  q1Msec  q2Msec  q3Msec  circuitId  \\\n",
       "0           21                 16.0   95898       0       0          1   \n",
       "1           65                 14.0   95453       0       0          1   \n",
       "2           84                 19.0   96286       0       0          1   \n",
       "3           55                  6.0   94257       0       0          1   \n",
       "4           50                 12.0   95338       0       0          1   \n",
       "...        ...                  ...     ...     ...     ...        ...   \n",
       "7585        20                  9.0   85523   84974   84961         24   \n",
       "7586       846                  7.0   85387   84903   84769         24   \n",
       "7587       839                  8.0   85735   85007   84830         24   \n",
       "7588       840                 14.0   85741   85359       0         24   \n",
       "7589       847                  6.0   85545   84940   84511         24   \n",
       "\n",
       "      constructorId    AirTemp   Humidity     Pressure  Rainfall  TrackTemp  \\\n",
       "0                18   0.000000   0.000000     0.000000       0.0   0.000000   \n",
       "1                15   0.000000   0.000000     0.000000       0.0   0.000000   \n",
       "2                17   0.000000   0.000000     0.000000       0.0   0.000000   \n",
       "3                22   0.000000   0.000000     0.000000       0.0   0.000000   \n",
       "4                29   0.000000   0.000000     0.000000       0.0   0.000000   \n",
       "...             ...        ...        ...          ...       ...        ...   \n",
       "7585            117  28.763014  69.712329  1014.713699       0.0  33.942466   \n",
       "7586              1  28.763014  69.712329  1014.713699       0.0  33.942466   \n",
       "7587            214  28.763014  69.712329  1014.713699       0.0  33.942466   \n",
       "7588            117  28.763014  69.712329  1014.713699       0.0  33.942466   \n",
       "7589            131  28.763014  69.712329  1014.713699       0.0  33.942466   \n",
       "\n",
       "      WindDirection  WindSpeed  \n",
       "0          0.000000   0.000000  \n",
       "1          0.000000   0.000000  \n",
       "2          0.000000   0.000000  \n",
       "3          0.000000   0.000000  \n",
       "4          0.000000   0.000000  \n",
       "...             ...        ...  \n",
       "7585     228.068493   1.635616  \n",
       "7586     228.068493   1.635616  \n",
       "7587     228.068493   1.635616  \n",
       "7588     228.068493   1.635616  \n",
       "7589     228.068493   1.635616  \n",
       "\n",
       "[7590 rows x 14 columns]"
      ]
     },
     "execution_count": 4,
     "metadata": {},
     "output_type": "execute_result"
    }
   ],
   "source": [
    "features_data"
   ]
  },
  {
   "cell_type": "code",
   "execution_count": 6,
   "metadata": {},
   "outputs": [],
   "source": [
    "features_data = features_data[['driverId', 'constructorId', 'circuitId', 'qualiResultPosition', 'q1Msec', 'q2Msec', 'q3Msec', 'AirTemp', 'Humidity', 'Pressure', 'Rainfall', 'TrackTemp', 'WindDirection', 'WindSpeed']]\n",
    "features_data = features_data.rename(columns={'driverId': 'DriverId', 'constructorId': 'TeamId', 'circuitId': 'CountryRaceId', 'qualiResultPosition': 'QualificationPosition', 'q1Msec': 'Q1', 'q2Msec':'Q2', 'q3Msec':'Q3'})"
   ]
  },
  {
   "cell_type": "markdown",
   "metadata": {},
   "source": [
    "## Classical models"
   ]
  },
  {
   "cell_type": "code",
   "execution_count": 7,
   "metadata": {},
   "outputs": [],
   "source": [
    "Scores_results = {}"
   ]
  },
  {
   "cell_type": "code",
   "execution_count": 8,
   "metadata": {},
   "outputs": [],
   "source": [
    "X_train, X_test, y_train, y_test = train_test_split(features_data, Y_scores, test_size=0.3, random_state=42, shuffle= False)"
   ]
  },
  {
   "cell_type": "markdown",
   "metadata": {},
   "source": [
    "### Catboost"
   ]
  },
  {
   "cell_type": "code",
   "execution_count": null,
   "metadata": {},
   "outputs": [],
   "source": [
    "catboost_model = CatBoostClassifier()\n",
    "\n",
    "param_grid = {\n",
    "    'learning_rate': [0.01, 0.1, 0.005],\n",
    "    'depth': [2, 4, 6, 8,],\n",
    "    'iterations': [100, 200, 500],\n",
    "    'loss_function': [ 'Logloss'],\n",
    "    \n",
    "}\n",
    "\n",
    "grid_search = GridSearchCV(estimator=catboost_model, param_grid=param_grid, cv=5, scoring='f1', verbose=False)\n",
    "grid_search.fit(X_train, y_train)\n",
    "\n",
    "print(\"Лучшие параметры:\", grid_search.best_params_)\n",
    "y_pred = grid_search.predict(X_test)\n",
    "accuracy = accuracy_score(y_test, y_pred)\n",
    "print(\"Accuracy на тестовом наборе:\", accuracy)\n",
    "f1 = f1_score(y_test, y_pred)\n",
    "Scores_results['CatBoost'] = (round(f1, 2), grid_search.best_params_)\n",
    "print(\"F1 на тестовом наборе:\", f1)"
   ]
  },
  {
   "cell_type": "markdown",
   "metadata": {},
   "source": [
    "### AdaBoost"
   ]
  },
  {
   "cell_type": "code",
   "execution_count": null,
   "metadata": {},
   "outputs": [],
   "source": [
    "adaboost_model = AdaBoostClassifier()\n",
    "\n",
    "param_grid = {\n",
    "    'n_estimators': [50, 100, 150, 200],\n",
    "    'learning_rate': [1, 0.5],\n",
    "    'algorithm': ['SAMME', 'SAMME.R']\n",
    "}\n",
    "\n",
    "grid_search = GridSearchCV(estimator=adaboost_model, param_grid=param_grid, cv=3, scoring='f1', verbose=3)\n",
    "grid_search.fit(X_train, y_train)\n",
    "\n",
    "print(\"Лучшие параметры:\", grid_search.best_params_)\n",
    "y_pred = grid_search.predict(X_test)\n",
    "accuracy = accuracy_score(y_test, y_pred)\n",
    "print(\"Accuracy на тестовом наборе:\", accuracy)\n",
    "f1 = f1_score(y_test, y_pred)\n",
    "Scores_results['Ada Boost']  = (round(f1, 2), grid_search.best_params_)\n",
    "print(\"F1 на тестовом наборе:\", f1)"
   ]
  },
  {
   "cell_type": "markdown",
   "metadata": {},
   "source": [
    "### Random Forest"
   ]
  },
  {
   "cell_type": "code",
   "execution_count": null,
   "metadata": {},
   "outputs": [],
   "source": [
    "RF_model = RandomForestClassifier()\n",
    "\n",
    "param_grid = {\n",
    "    'n_estimators': [100, 150, 200],\n",
    "    'max_depth': [10, 5 , 20],\n",
    "    'min_samples_split': [2, 4, 6],\n",
    "    'min_samples_leaf': [1, 2],\n",
    "    'max_features': ['sqrt', 'log2', None]\n",
    "\n",
    "}\n",
    "\n",
    "grid_search = GridSearchCV(estimator=RF_model, param_grid=param_grid, cv=5, scoring='f1', verbose=3)\n",
    "grid_search.fit(X_train, y_train)\n",
    "\n",
    "print(\"Лучшие параметры:\", grid_search.best_params_)\n",
    "y_pred = grid_search.predict(X_test)\n",
    "accuracy = accuracy_score(y_test, y_pred)\n",
    "print(\"Accuracy на тестовом наборе:\", accuracy)\n",
    "f1 = f1_score(y_test, y_pred)\n",
    "Scores_results['Random Forest']  = (round(f1, 2), grid_search.best_params_)\n",
    "print(\"F1 на тестовом наборе:\", f1)"
   ]
  },
  {
   "cell_type": "markdown",
   "metadata": {},
   "source": [
    "### Logistic Regression"
   ]
  },
  {
   "cell_type": "code",
   "execution_count": null,
   "metadata": {},
   "outputs": [],
   "source": [
    "LR_model = LogisticRegression()\n",
    "\n",
    "param_grid = {\n",
    "    'penalty': ['l1', 'l2', 'elasticnet'],\n",
    "    'C': [1, 2],\n",
    "    'class_weight': ['balanced', None],\n",
    "    'solver': ['lbfgs', 'liblinear', 'newton-cg', 'newton-cholesky', 'sag', 'saga']\n",
    "}\n",
    "\n",
    "grid_search = GridSearchCV(estimator=LR_model, param_grid=param_grid, cv=5, scoring='f1', verbose=3)\n",
    "grid_search.fit(X_train, y_train)\n",
    "\n",
    "print(\"Лучшие параметры:\", grid_search.best_params_)\n",
    "y_pred = grid_search.predict(X_test)\n",
    "accuracy = accuracy_score(y_test, y_pred)\n",
    "print(\"Accuracy на тестовом наборе:\", accuracy)\n",
    "f1 = f1_score(y_test, y_pred)\n",
    "Scores_results['LR_model']  = (round(f1, 2), grid_search.best_params_)\n",
    "print(\"F1 на тестовом наборе:\", f1)"
   ]
  },
  {
   "cell_type": "markdown",
   "metadata": {},
   "source": [
    "## ML approach"
   ]
  },
  {
   "cell_type": "code",
   "execution_count": 14,
   "metadata": {},
   "outputs": [],
   "source": [
    "X_train_, X_test_, y_train_, y_test_ = X_train.values, X_test.values, y_train.values, y_test.values\n",
    "num_samples, num_features = X_train_.shape\n",
    "X_train_ = X_train_.reshape(num_samples, 1, num_features)\n",
    "num_samples, num_features = X_test_.shape\n",
    "X_test_ = X_test_.reshape(num_samples, 1, num_features)"
   ]
  },
  {
   "cell_type": "markdown",
   "metadata": {},
   "source": [
    "### LSTM"
   ]
  },
  {
   "cell_type": "code",
   "execution_count": null,
   "metadata": {},
   "outputs": [],
   "source": [
    "model_lstm = Sequential()\n",
    "model_lstm.add(LSTM(50, input_shape=(X_train_.shape[1], X_train_.shape[2])))\n",
    "model_lstm.add(Dense(1, activation='sigmoid'))\n",
    "\n",
    "model_lstm.compile(loss='binary_crossentropy', optimizer='adam', metrics=['accuracy'])\n",
    "\n",
    "model_lstm.fit(X_train_, y_train_, epochs=50, batch_size=32, validation_data=(X_test_, y_test_))\n",
    "\n",
    "loss, accuracy = model_lstm.evaluate(X_test_, y_test_)\n",
    "print(f'Accuracy: {accuracy * 100:.2f}%')\n",
    "\n",
    "y_pred = model_lstm.predict(X_test_)\n",
    "y_pred_binary = (y_pred > 0.5).astype(int)\n",
    "\n",
    "\n",
    "f1 = f1_score(y_test_, y_pred_binary)\n",
    "Scores_results['LSTM']  = (round(f1, 2), {})\n"
   ]
  },
  {
   "cell_type": "markdown",
   "metadata": {},
   "source": [
    "### MLP"
   ]
  },
  {
   "cell_type": "code",
   "execution_count": null,
   "metadata": {},
   "outputs": [],
   "source": [
    "model_MLP = Sequential()\n",
    "model_MLP.add(Dense(64, input_shape=(X_train_.shape[1], X_train_.shape[2]), activation='relu'))\n",
    "model_MLP.add(Dense(32, activation='relu'))\n",
    "model_MLP.add(Dense(1, activation='sigmoid'))\n",
    "\n",
    "model_MLP.compile(loss='binary_crossentropy', optimizer='adam', metrics=['accuracy'])\n",
    "model_MLP.fit(X_train_, y_train_, epochs=50, batch_size=32, validation_split=0.3)\n",
    "\n",
    "loss, accuracy = model_MLP.evaluate(X_test_, y_test_)\n",
    "print(f'Accuracy: {accuracy * 100:.2f}%')\n",
    "\n",
    "\n",
    "y_pred = model_MLP.predict(X_test_)\n",
    "y_pred_binary = (y_pred > 0.5).astype(int)\n",
    "\n",
    "\n",
    "y_test_flat = y_test_.flatten()\n",
    "y_pred_binary_flat = y_pred_binary.flatten()\n",
    "\n",
    "\n",
    "f1 = f1_score(y_test_flat, y_pred_binary_flat)\n",
    "Scores_results['MLP']  = (round(f1, 2), {})\n"
   ]
  },
  {
   "cell_type": "code",
   "execution_count": 21,
   "metadata": {},
   "outputs": [],
   "source": [
    "results_scores = pd.DataFrame(Scores_results).T\n",
    "results_scores = results_scores.drop([1], axis = 1)\n",
    "results_scores = results_scores.rename(columns={0: 'F1'})\n",
    "results_scores = results_scores.sort_values(by='F1', ascending=False)"
   ]
  },
  {
   "cell_type": "code",
   "execution_count": 22,
   "metadata": {},
   "outputs": [
    {
     "data": {
      "text/html": [
       "<div>\n",
       "<style scoped>\n",
       "    .dataframe tbody tr th:only-of-type {\n",
       "        vertical-align: middle;\n",
       "    }\n",
       "\n",
       "    .dataframe tbody tr th {\n",
       "        vertical-align: top;\n",
       "    }\n",
       "\n",
       "    .dataframe thead th {\n",
       "        text-align: right;\n",
       "    }\n",
       "</style>\n",
       "<table border=\"1\" class=\"dataframe\">\n",
       "  <thead>\n",
       "    <tr style=\"text-align: right;\">\n",
       "      <th></th>\n",
       "      <th>F1</th>\n",
       "    </tr>\n",
       "  </thead>\n",
       "  <tbody>\n",
       "    <tr>\n",
       "      <th>CatBoost</th>\n",
       "      <td>0.77</td>\n",
       "    </tr>\n",
       "    <tr>\n",
       "      <th>Random Forest</th>\n",
       "      <td>0.76</td>\n",
       "    </tr>\n",
       "    <tr>\n",
       "      <th>LSTM</th>\n",
       "      <td>0.76</td>\n",
       "    </tr>\n",
       "    <tr>\n",
       "      <th>MLP</th>\n",
       "      <td>0.76</td>\n",
       "    </tr>\n",
       "    <tr>\n",
       "      <th>Ada Boost</th>\n",
       "      <td>0.75</td>\n",
       "    </tr>\n",
       "    <tr>\n",
       "      <th>LR_model</th>\n",
       "      <td>0.75</td>\n",
       "    </tr>\n",
       "  </tbody>\n",
       "</table>\n",
       "</div>"
      ],
      "text/plain": [
       "                 F1\n",
       "CatBoost       0.77\n",
       "Random Forest  0.76\n",
       "LSTM           0.76\n",
       "MLP            0.76\n",
       "Ada Boost      0.75\n",
       "LR_model       0.75"
      ]
     },
     "execution_count": 22,
     "metadata": {},
     "output_type": "execute_result"
    }
   ],
   "source": [
    "results_scores"
   ]
  },
  {
   "cell_type": "markdown",
   "metadata": {},
   "source": [
    "## Save the best model"
   ]
  },
  {
   "cell_type": "code",
   "execution_count": 24,
   "metadata": {},
   "outputs": [
    {
     "data": {
      "text/plain": [
       "<catboost.core.CatBoostClassifier at 0x293d91960>"
      ]
     },
     "execution_count": 24,
     "metadata": {},
     "output_type": "execute_result"
    }
   ],
   "source": [
    "model = CatBoostClassifier(iterations=100,\n",
    "                           depth=2,\n",
    "                           learning_rate=0.005,\n",
    "                           loss_function='Logloss',\n",
    "                           verbose=False)\n",
    "\n",
    "model.fit(X_train, y_train)"
   ]
  },
  {
   "cell_type": "code",
   "execution_count": 25,
   "metadata": {},
   "outputs": [],
   "source": [
    "model.save_model('model_predict')"
   ]
  }
 ],
 "metadata": {
  "kernelspec": {
   "display_name": "Python 3",
   "language": "python",
   "name": "python3"
  },
  "language_info": {
   "codemirror_mode": {
    "name": "ipython",
    "version": 3
   },
   "file_extension": ".py",
   "mimetype": "text/x-python",
   "name": "python",
   "nbconvert_exporter": "python",
   "pygments_lexer": "ipython3",
   "version": "3.10.11"
  }
 },
 "nbformat": 4,
 "nbformat_minor": 2
}
